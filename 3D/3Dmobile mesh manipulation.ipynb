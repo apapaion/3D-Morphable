{
 "cells": [
  {
   "cell_type": "code",
   "execution_count": 3,
   "metadata": {},
   "outputs": [],
   "source": [
    "import menpo3d.io as m3io\n",
    "import menpo.io as mio\n",
    "import itertools\n",
    "from menpo.transform import Rotation\n",
    "import numpy as np\n",
    "# from kfdata import load_kf\n",
    "# from menpodetect import load_dlib_frontal_face_detector\n",
    "from menpofit.aam import load_balanced_frontal_face_fitter\n",
    "from menpo.shape import TriMesh, ColouredTriMesh, TexturedTriMesh\n",
    "from menpo3d.rasterize import rasterize_mesh_from_barycentric_coordinate_images, rasterize_barycentric_coordinate_images\n",
    "from menpo3d.camera import PerspectiveProjection, PerspectiveCamera\n",
    "# from mesh_clean import *\n",
    "from menpo3d.correspond import *\n",
    "# from KF_landmark_annotation import *\n",
    "from menpo.shape import PointCloud\n",
    "from menpo.landmark.labels import face_ibug_68_to_face_ibug_49"
   ]
  },
  {
   "cell_type": "code",
   "execution_count": 1,
   "metadata": {
    "collapsed": true
   },
   "outputs": [],
   "source": [
    "import menpo3d.io as m3io\n",
    "import menpo.io as mio"
   ]
  },
  {
   "cell_type": "code",
   "execution_count": 11,
   "metadata": {},
   "outputs": [],
   "source": [
    "# y=mio.import_pickle('/home/thanos/Dropbox/pickle_files/template.pkl')\n",
    "# mesh_land = m3io.import_landmark_file('/home/thanos/Dropbox/pickle_files/ibug68.ljson')\n",
    "y= m3io.import_mesh('/home/thanos/Downloads/base.obj')\n",
    "mesh_land = m3io.import_landmark_file('/home/thanos/Downloads/base.obj_ibug68.ljson') \n",
    "y.landmarks['ibug49'] = face_ibug_68_to_face_ibug_49(mesh_land)"
   ]
  },
  {
   "cell_type": "code",
   "execution_count": 5,
   "metadata": {},
   "outputs": [
    {
     "name": "stdout",
     "output_type": "stream",
     "text": [
      "<class 'menpo.shape.labelled.LabelledPointUndirectedGraph'>\n"
     ]
    }
   ],
   "source": [
    "print(type(mesh_land))"
   ]
  },
  {
   "cell_type": "code",
   "execution_count": 6,
   "metadata": {},
   "outputs": [
    {
     "name": "stdout",
     "output_type": "stream",
     "text": [
      "LabelledPointUndirectedGraph: n_labels: 6, n_points: 49, n_edges: 47\n"
     ]
    }
   ],
   "source": [
    "print(y.landmarks['ibug49'])"
   ]
  },
  {
   "cell_type": "code",
   "execution_count": 30,
   "metadata": {},
   "outputs": [
    {
     "data": {
      "text/plain": [
       "<menpo3d.visualize.viewmayavi.MayaviPointGraphViewer3d at 0x7f44b96eee10>"
      ]
     },
     "execution_count": 30,
     "metadata": {},
     "output_type": "execute_result"
    }
   ],
   "source": [
    "%matplotlib qt\n",
    "y.view(colour='g')\n",
    "PointCloud(mesh_land.points).view(new_figure=False,marker_face_colour_lms='b',marker_size_lms=120)"
   ]
  },
  {
   "cell_type": "code",
   "execution_count": 26,
   "metadata": {},
   "outputs": [
    {
     "data": {
      "text/plain": [
       "PointCloud: n_points: 68, n_dims: 3"
      ]
     },
     "execution_count": 26,
     "metadata": {},
     "output_type": "execute_result"
    }
   ],
   "source": [
    "PointCloud(mesh_land.points)"
   ]
  },
  {
   "cell_type": "code",
   "execution_count": null,
   "metadata": {},
   "outputs": [],
   "source": [
    "mesh = m3io.import_mesh('/home/stylianos/Dropbox/landmarker/meshes/merge3d.obj')\n",
    "mesh_land = m3io.import_landmark_file('/home/stylianos/Dropbox/landmarker/meshes/landmarks/merge3d.obj_ibug68.ljson')\n",
    "mesh.landmarks['ibug49'] = face_ibug_68_to_face_ibug_49(mesh_land)"
   ]
  },
  {
   "cell_type": "code",
   "execution_count": 3,
   "metadata": {},
   "outputs": [
    {
     "data": {
      "text/plain": [
       "<menpo3d.visualize.viewmayavi.MayaviPointGraphViewer3d at 0x7f19ea6a01d0>"
      ]
     },
     "execution_count": 3,
     "metadata": {},
     "output_type": "execute_result"
    }
   ],
   "source": [
    "%matplotlib qt\n",
    "mesh.view()\n",
    "PointCloud(mesh_land.points).view(new_figure=False)"
   ]
  },
  {
   "cell_type": "code",
   "execution_count": 4,
   "metadata": {
    "collapsed": true
   },
   "outputs": [],
   "source": [
    "shape_mean = m3io.import_mesh('/home/stylianos/Dropbox/landmarker/meshes/base.obj')\n",
    "model_landmarks_49 =face_ibug_68_to_face_ibug_49(m3io.import_landmark_file('/home/stylianos/Dropbox/landmarker/meshes/landmarks/base.obj_ibug68.ljson'))\n",
    "shape_mean.landmarks['ibug49'] = model_landmarks_49"
   ]
  },
  {
   "cell_type": "code",
   "execution_count": 5,
   "metadata": {},
   "outputs": [
    {
     "data": {
      "text/plain": [
       "<menpo3d.visualize.viewmayavi.MayaviPointGraphViewer3d at 0x7f19e80a4dd8>"
      ]
     },
     "execution_count": 5,
     "metadata": {},
     "output_type": "execute_result"
    }
   ],
   "source": [
    "#Start the alignment with the basel and Neanderthal scan\n",
    "from menpo.transform import AlignmentSimilarity\n",
    "alignment = AlignmentSimilarity(mesh.landmarks['ibug49'], model_landmarks_49)\n",
    "\n",
    "aligned_mesh = alignment.apply(mesh)\n",
    "aligned_mesh.landmarks['ibug49'] = alignment.apply(mesh.landmarks['ibug49'])\n",
    "\n",
    "shape_mean.view()\n",
    "aligned_mesh.view(new_figure=False,colour=(0,1,0.5))\n",
    "\n",
    "aligned_mesh.view()\n",
    "PointCloud(aligned_mesh.landmarks['ibug49'].points).view(new_figure=False,colour=(0,1,0.5),marker_size=0.05)"
   ]
  },
  {
   "cell_type": "code",
   "execution_count": 79,
   "metadata": {},
   "outputs": [
    {
     "name": "stdout",
     "output_type": "stream",
     "text": [
      "'ibug49' landmarks will be used as a landmark constraint.\n",
      "performing similarity alignment using landmarks\n",
      "using default stiffness_weights: [50, 20, 5, 2, 0.8, 0.5, 0.35, 0.2]\n",
      "using user defined landmark_weights: [0.2, 0.2, 0.1, 0.1, 0.1, 0, 0, 0]\n",
      "Not customising data_weights\n",
      "1/8: stiffness: 50  lm_weight: 0.2\n",
      " - 1 stop crit: 0.512  total: 15%  norms: 15%  edges: 0%  lm_err: 0.0160\n",
      " - 2 stop crit: 0.019  total: 15%  norms: 15%  edges: 0%  lm_err: 0.0154\n",
      " - 3 stop crit: 0.003  total: 16%  norms: 16%  edges: 0%  lm_err: 0.0157\n",
      " - 4 stop crit: 0.002  total: 16%  norms: 16%  edges: 0%  lm_err: 0.0162\n",
      " - 5 stop crit: 0.001  total: 16%  norms: 16%  edges: 0%  lm_err: 0.0166\n",
      "2/8: stiffness: 20  lm_weight: 0.2\n",
      " - 1 stop crit: 0.001  total: 16%  norms: 16%  edges: 0%  lm_err: 0.0164\n",
      " - 2 stop crit: 0.001  total: 15%  norms: 15%  edges: 0%  lm_err: 0.0161\n",
      "3/8: stiffness: 5  lm_weight: 0.1\n",
      " - 1 stop crit: 0.004  total: 15%  norms: 15%  edges: 0%  lm_err: 0.0146\n",
      " - 2 stop crit: 0.003  total: 12%  norms: 12%  edges: 0%  lm_err: 0.0139\n",
      " - 3 stop crit: 0.001  total: 10%  norms: 10%  edges: 0%  lm_err: 0.0136\n",
      " - 4 stop crit: 0.001  total: 9%  norms: 9%  edges: 0%  lm_err: 0.0133\n",
      "4/8: stiffness: 2  lm_weight: 0.1\n",
      " - 1 stop crit: 0.001  total: 8%  norms: 8%  edges: 0%  lm_err: 0.0130\n",
      "5/8: stiffness: 0.8  lm_weight: 0.1\n",
      " - 1 stop crit: 0.001  total: 6%  norms: 6%  edges: 0%  lm_err: 0.0127\n",
      "6/8: stiffness: 0.5  lm_weight: 0\n",
      " - 1 stop crit: 0.001  total: 4%  norms: 4%  edges: 0%  lm_err: 0.0126\n",
      "7/8: stiffness: 0.35  lm_weight: 0\n",
      " - 1 stop crit: 0.000  total: 3%  norms: 3%  edges: 0%  lm_err: 0.0126\n",
      "8/8: stiffness: 0.2  lm_weight: 0\n",
      " - 1 stop crit: 0.000  total: 3%  norms: 3%  edges: 0%  lm_err: 0.0126\n"
     ]
    }
   ],
   "source": [
    "#Perform NICP to get the shape from the Kinect scan\n",
    "#stiffness_values=[30, 20,10,2, 1, 0.5, 0.1]\n",
    "lm_weight=[0.2, 0.2, 0.1, 0.1, 0.1, 0, 0 ,0]\n",
    "data = [2, 2, 0.8, 0.8, 0.4, 0, 0 ,0]\n",
    "results = non_rigid_icp(shape_mean, aligned_mesh,verbose=True,generate_instances=True,\n",
    "                        landmark_group='ibug49',stiffness_weights=None,landmark_weights=lm_weight)\n",
    "results = list(results)"
   ]
  },
  {
   "cell_type": "code",
   "execution_count": 80,
   "metadata": {
    "collapsed": true
   },
   "outputs": [],
   "source": [
    "#View the Results of the NICP-Kinect Scan\n",
    "results[-1][0].view()\n",
    "aligned_mesh.view(new_figure=False, colour=(0,1,0.5))\n",
    "results[-1][0].view()\n",
    "nicp_mesh = results[-1][0]"
   ]
  },
  {
   "cell_type": "markdown",
   "metadata": {
    "collapsed": true
   },
   "source": [
    "# KD tree search for colouring"
   ]
  },
  {
   "cell_type": "code",
   "execution_count": 37,
   "metadata": {
    "collapsed": true
   },
   "outputs": [],
   "source": [
    "from scipy.spatial import KDTree\n",
    "from menpo3d.vtkutils import trimesh_to_vtk, VTKClosestPointLocator"
   ]
  },
  {
   "cell_type": "code",
   "execution_count": 38,
   "metadata": {
    "collapsed": true
   },
   "outputs": [],
   "source": [
    "def duplicate_vertices(mesh):\n",
    "    # generate a new mesh with unique vertices per triangle\n",
    "    # (i.e. duplicate verts so that each triangle is unique)    old_to_new = mesh.trilist.ravel()\n",
    "    old_to_new = mesh.trilist.ravel()\n",
    "    new_trilist = np.arange(old_to_new.shape[0]).reshape([-1, 3])\n",
    "    new_points = mesh.points[old_to_new]\n",
    "    return TriMesh(new_points, trilist=new_trilist), old_to_new"
   ]
  },
  {
   "cell_type": "code",
   "execution_count": 41,
   "metadata": {
    "collapsed": true
   },
   "outputs": [],
   "source": [
    "a1 = duplicate_vertices(aligned_mesh)[0]\n",
    "a2 = duplicate_vertices(nicp_mesh)[0]"
   ]
  },
  {
   "cell_type": "code",
   "execution_count": 47,
   "metadata": {
    "collapsed": true
   },
   "outputs": [],
   "source": [
    "kdtree = KDTree(aligned_mesh.points)"
   ]
  },
  {
   "cell_type": "code",
   "execution_count": 51,
   "metadata": {
    "collapsed": true
   },
   "outputs": [],
   "source": [
    "a = kdtree.query(nicp_mesh.points, k=3)"
   ]
  },
  {
   "cell_type": "code",
   "execution_count": 52,
   "metadata": {},
   "outputs": [
    {
     "data": {
      "text/plain": [
       "<menpo3d.visualize.viewmayavi.MayaviTexturedTriMeshViewer3d at 0x7fa3405382b0>"
      ]
     },
     "execution_count": 52,
     "metadata": {},
     "output_type": "execute_result"
    }
   ],
   "source": [
    "from menpo.transform import image_coords_to_tcoords\n",
    "from menpo.shape import TexturedTriMesh\n",
    "\n",
    "# tcoords_miss = image_coords_to_tcoords(miss_img.shape).apply(aligned_miss.with_dims([0, 1])).points\n",
    "\n",
    "T_mesh = TexturedTriMesh(nicp_mesh.points, aligned_mesh.tcoords.points[a[1][:, 2]], aligned_mesh.texture,nicp_mesh.trilist)\n",
    "T_mesh.view()"
   ]
  },
  {
   "cell_type": "markdown",
   "metadata": {
    "collapsed": true
   },
   "source": [
    "# Coloured Trimesh"
   ]
  },
  {
   "cell_type": "code",
   "execution_count": 82,
   "metadata": {
    "collapsed": true
   },
   "outputs": [],
   "source": [
    "from menpo3d.barycentric import barycentric_coordinates_of_pointcloud\n",
    "bc, i = aligned_mesh.barycentric_coordinates_of_pointcloud(PointCloud(nicp_mesh.points))\n",
    "colour = aligned_mesh.sample_texture_with_barycentric_coordinates(bc,i)\n",
    "\n",
    "col_nicp = ColouredTriMesh(points=nicp_mesh.points,trilist=nicp_mesh.trilist,colours=colour)\n",
    "col_nicp.view()"
   ]
  },
  {
   "cell_type": "markdown",
   "metadata": {},
   "source": [
    "# Textured Trimesh"
   ]
  },
  {
   "cell_type": "code",
   "execution_count": 104,
   "metadata": {},
   "outputs": [
    {
     "data": {
      "text/plain": [
       "PointCloud: n_points: 120084, n_dims: 2"
      ]
     },
     "execution_count": 104,
     "metadata": {},
     "output_type": "execute_result"
    }
   ],
   "source": [
    "aligned_mesh.tcoords"
   ]
  },
  {
   "cell_type": "code",
   "execution_count": 102,
   "metadata": {},
   "outputs": [
    {
     "data": {
      "text/plain": [
       "120084"
      ]
     },
     "execution_count": 102,
     "metadata": {},
     "output_type": "execute_result"
    }
   ],
   "source": [
    "aligned_mesh.n_points"
   ]
  },
  {
   "cell_type": "code",
   "execution_count": 92,
   "metadata": {},
   "outputs": [
    {
     "ename": "TypeError",
     "evalue": "Couldn't translate array's type to VTK",
     "output_type": "error",
     "traceback": [
      "\u001b[1;31m-------------------------------------------------------------------\u001b[0m",
      "\u001b[1;31mTypeError\u001b[0m                         Traceback (most recent call last)",
      "\u001b[1;32m/home/stylianos/miniconda3/envs/menpo/lib/python3.5/site-packages/mayavi-4.5.0-py3.5-linux-x86_64.egg/tvtk/array_handler.py\u001b[0m in \u001b[0;36mconvert_array\u001b[1;34m(arr, vtk_typ)\u001b[0m\n\u001b[0;32m    655\u001b[0m             \u001b[1;32mtry\u001b[0m\u001b[1;33m:\u001b[0m\u001b[1;33m\u001b[0m\u001b[0m\n\u001b[1;32m--> 656\u001b[1;33m                 \u001b[0mvtk_arr\u001b[0m \u001b[1;33m=\u001b[0m \u001b[0mgetattr\u001b[0m\u001b[1;33m(\u001b[0m\u001b[0mvtk\u001b[0m\u001b[1;33m,\u001b[0m \u001b[0mvtk_typ\u001b[0m\u001b[1;33m)\u001b[0m\u001b[1;33m(\u001b[0m\u001b[1;33m)\u001b[0m\u001b[1;33m\u001b[0m\u001b[0m\n\u001b[0m\u001b[0;32m    657\u001b[0m             \u001b[1;32mexcept\u001b[0m \u001b[0mTypeError\u001b[0m\u001b[1;33m:\u001b[0m \u001b[1;31m# vtk_typ == 'vtkDataArray'\u001b[0m\u001b[1;33m\u001b[0m\u001b[0m\n",
      "\u001b[1;31mTypeError\u001b[0m: this is an abstract class and cannot be instantiated",
      "\nDuring handling of the above exception, another exception occurred:\n",
      "\u001b[1;31mTypeError\u001b[0m                         Traceback (most recent call last)",
      "\u001b[1;32m<ipython-input-92-14acea97c5a9>\u001b[0m in \u001b[0;36m<module>\u001b[1;34m()\u001b[0m\n\u001b[1;32m----> 1\u001b[1;33m \u001b[0mTexturedTriMesh\u001b[0m\u001b[1;33m(\u001b[0m\u001b[0mnicp_mesh\u001b[0m\u001b[1;33m.\u001b[0m\u001b[0mpoints\u001b[0m\u001b[1;33m,\u001b[0m\u001b[0maligned_mesh\u001b[0m\u001b[1;33m.\u001b[0m\u001b[0mtcoords\u001b[0m\u001b[1;33m,\u001b[0m\u001b[0maligned_mesh\u001b[0m\u001b[1;33m.\u001b[0m\u001b[0mtexture\u001b[0m\u001b[1;33m,\u001b[0m \u001b[0mnicp_mesh\u001b[0m\u001b[1;33m.\u001b[0m\u001b[0mtrilist\u001b[0m\u001b[1;33m)\u001b[0m\u001b[1;33m.\u001b[0m\u001b[0mview\u001b[0m\u001b[1;33m(\u001b[0m\u001b[1;33m)\u001b[0m\u001b[1;33m\u001b[0m\u001b[0m\n\u001b[0m",
      "\u001b[1;32m/home/stylianos/Documents/menpo/menpo/shape/mesh/textured.py\u001b[0m in \u001b[0;36m_view_3d\u001b[1;34m(self, figure_id, new_figure, render_texture, mesh_type, ambient_light, specular_light, colour, line_width, normals, normals_colour, normals_line_width, normals_marker_style, normals_marker_resolution, normals_marker_size, step, alpha)\u001b[0m\n\u001b[0;32m    367\u001b[0m                     \u001b[0mnormals_marker_resolution\u001b[0m\u001b[1;33m=\u001b[0m\u001b[0mnormals_marker_resolution\u001b[0m\u001b[1;33m,\u001b[0m\u001b[1;33m\u001b[0m\u001b[0m\n\u001b[0;32m    368\u001b[0m                     \u001b[0mnormals_marker_size\u001b[0m\u001b[1;33m=\u001b[0m\u001b[0mnormals_marker_size\u001b[0m\u001b[1;33m,\u001b[0m \u001b[0mstep\u001b[0m\u001b[1;33m=\u001b[0m\u001b[0mstep\u001b[0m\u001b[1;33m,\u001b[0m\u001b[1;33m\u001b[0m\u001b[0m\n\u001b[1;32m--> 369\u001b[1;33m                     alpha=alpha)\n\u001b[0m\u001b[0;32m    370\u001b[0m                 \u001b[1;32mreturn\u001b[0m \u001b[0mrenderer\u001b[0m\u001b[1;33m\u001b[0m\u001b[0m\n\u001b[0;32m    371\u001b[0m             \u001b[1;32mexcept\u001b[0m \u001b[0mImportError\u001b[0m\u001b[1;33m:\u001b[0m\u001b[1;33m\u001b[0m\u001b[0m\n",
      "\u001b[1;32m/home/stylianos/Documents/menpo3D/menpo3d/visualize/viewmayavi.py\u001b[0m in \u001b[0;36mrender\u001b[1;34m(self, mesh_type, ambient_light, specular_light, normals, normals_colour, normals_line_width, normals_marker_style, normals_marker_resolution, normals_marker_size, step, alpha)\u001b[0m\n\u001b[0;32m    390\u001b[0m                 marker_size=normals_marker_size, alpha=alpha)\n\u001b[0;32m    391\u001b[0m         self._render_mesh(mesh_type=mesh_type, ambient_light=ambient_light,\n\u001b[1;32m--> 392\u001b[1;33m                           specular_light=specular_light, alpha=alpha)\n\u001b[0m\u001b[0;32m    393\u001b[0m         \u001b[1;32mreturn\u001b[0m \u001b[0mself\u001b[0m\u001b[1;33m\u001b[0m\u001b[0m\n\u001b[0;32m    394\u001b[0m \u001b[1;33m\u001b[0m\u001b[0m\n",
      "\u001b[1;32m/home/stylianos/Documents/menpo3D/menpo3d/visualize/viewmayavi.py\u001b[0m in \u001b[0;36m_render_mesh\u001b[1;34m(self, mesh_type, ambient_light, specular_light, alpha)\u001b[0m\n\u001b[0;32m    356\u001b[0m         \u001b[0mpd\u001b[0m\u001b[1;33m.\u001b[0m\u001b[0mpoints\u001b[0m \u001b[1;33m=\u001b[0m \u001b[0mself\u001b[0m\u001b[1;33m.\u001b[0m\u001b[0mpoints\u001b[0m\u001b[1;33m\u001b[0m\u001b[0m\n\u001b[0;32m    357\u001b[0m         \u001b[0mpd\u001b[0m\u001b[1;33m.\u001b[0m\u001b[0mpolys\u001b[0m \u001b[1;33m=\u001b[0m \u001b[0mself\u001b[0m\u001b[1;33m.\u001b[0m\u001b[0mtrilist\u001b[0m\u001b[1;33m\u001b[0m\u001b[0m\n\u001b[1;32m--> 358\u001b[1;33m         \u001b[0mpd\u001b[0m\u001b[1;33m.\u001b[0m\u001b[0mpoint_data\u001b[0m\u001b[1;33m.\u001b[0m\u001b[0mt_coords\u001b[0m \u001b[1;33m=\u001b[0m \u001b[0mself\u001b[0m\u001b[1;33m.\u001b[0m\u001b[0mtcoords_per_point\u001b[0m\u001b[1;33m\u001b[0m\u001b[0m\n\u001b[0m\u001b[0;32m    359\u001b[0m         \u001b[0mmapper\u001b[0m \u001b[1;33m=\u001b[0m \u001b[0mtvtk\u001b[0m\u001b[1;33m.\u001b[0m\u001b[0mPolyDataMapper\u001b[0m\u001b[1;33m(\u001b[0m\u001b[1;33m)\u001b[0m\u001b[1;33m\u001b[0m\u001b[0m\n\u001b[0;32m    360\u001b[0m         \u001b[0mmapper\u001b[0m\u001b[1;33m.\u001b[0m\u001b[0mset_input_data\u001b[0m\u001b[1;33m(\u001b[0m\u001b[0mpd\u001b[0m\u001b[1;33m)\u001b[0m\u001b[1;33m\u001b[0m\u001b[0m\n",
      "\u001b[1;32m/home/stylianos/miniconda3/envs/menpo/lib/python3.5/site-packages/mayavi-4.5.0-py3.5-linux-x86_64.egg/tvtk/tvtk_classes.zip/tvtk_classes/data_set_attributes.py\u001b[0m in \u001b[0;36m_set_t_coords\u001b[1;34m(self, arg)\u001b[0m\n\u001b[0;32m    257\u001b[0m     \u001b[1;32mdef\u001b[0m \u001b[0m_set_t_coords\u001b[0m\u001b[1;33m(\u001b[0m\u001b[0mself\u001b[0m\u001b[1;33m,\u001b[0m \u001b[0marg\u001b[0m\u001b[1;33m)\u001b[0m\u001b[1;33m:\u001b[0m\u001b[1;33m\u001b[0m\u001b[0m\n\u001b[0;32m    258\u001b[0m         \u001b[0mold_val\u001b[0m \u001b[1;33m=\u001b[0m \u001b[0mself\u001b[0m\u001b[1;33m.\u001b[0m\u001b[0m_get_t_coords\u001b[0m\u001b[1;33m(\u001b[0m\u001b[1;33m)\u001b[0m\u001b[1;33m\u001b[0m\u001b[0m\n\u001b[1;32m--> 259\u001b[1;33m         \u001b[0mmy_arg\u001b[0m \u001b[1;33m=\u001b[0m \u001b[0mderef_array\u001b[0m\u001b[1;33m(\u001b[0m\u001b[1;33m[\u001b[0m\u001b[0marg\u001b[0m\u001b[1;33m]\u001b[0m\u001b[1;33m,\u001b[0m \u001b[1;33m[\u001b[0m\u001b[1;33m[\u001b[0m\u001b[1;34m'vtkDataArray'\u001b[0m\u001b[1;33m]\u001b[0m\u001b[1;33m]\u001b[0m\u001b[1;33m)\u001b[0m\u001b[1;33m\u001b[0m\u001b[0m\n\u001b[0m\u001b[0;32m    260\u001b[0m         self._wrap_call(self._vtk_obj.SetTCoords,\n\u001b[0;32m    261\u001b[0m                         my_arg[0])\n",
      "\u001b[1;32m/home/stylianos/miniconda3/envs/menpo/lib/python3.5/site-packages/mayavi-4.5.0-py3.5-linux-x86_64.egg/tvtk/array_handler.py\u001b[0m in \u001b[0;36mderef_array\u001b[1;34m(args, sigs)\u001b[0m\n\u001b[0;32m    770\u001b[0m         \u001b[1;32mfor\u001b[0m \u001b[0ma\u001b[0m\u001b[1;33m,\u001b[0m \u001b[0ms\u001b[0m \u001b[1;32min\u001b[0m \u001b[0mzip\u001b[0m\u001b[1;33m(\u001b[0m\u001b[0margs\u001b[0m\u001b[1;33m,\u001b[0m \u001b[0msig\u001b[0m\u001b[1;33m)\u001b[0m\u001b[1;33m:\u001b[0m\u001b[1;33m\u001b[0m\u001b[0m\n\u001b[0;32m    771\u001b[0m             \u001b[1;32mif\u001b[0m \u001b[0mis_array\u001b[0m\u001b[1;33m(\u001b[0m\u001b[0ma\u001b[0m\u001b[1;33m)\u001b[0m \u001b[1;32mand\u001b[0m \u001b[0mis_array_sig\u001b[0m\u001b[1;33m(\u001b[0m\u001b[0ms\u001b[0m\u001b[1;33m)\u001b[0m\u001b[1;33m:\u001b[0m\u001b[1;33m\u001b[0m\u001b[0m\n\u001b[1;32m--> 772\u001b[1;33m                 \u001b[0mret\u001b[0m\u001b[1;33m.\u001b[0m\u001b[0mappend\u001b[0m\u001b[1;33m(\u001b[0m\u001b[0mconvert_array\u001b[0m\u001b[1;33m(\u001b[0m\u001b[0ma\u001b[0m\u001b[1;33m,\u001b[0m \u001b[0ms\u001b[0m\u001b[1;33m)\u001b[0m\u001b[1;33m)\u001b[0m\u001b[1;33m\u001b[0m\u001b[0m\n\u001b[0m\u001b[0;32m    773\u001b[0m             \u001b[1;32melse\u001b[0m\u001b[1;33m:\u001b[0m\u001b[1;33m\u001b[0m\u001b[0m\n\u001b[0;32m    774\u001b[0m                 \u001b[0mret\u001b[0m\u001b[1;33m.\u001b[0m\u001b[0mappend\u001b[0m\u001b[1;33m(\u001b[0m\u001b[0mderef_vtk\u001b[0m\u001b[1;33m(\u001b[0m\u001b[0ma\u001b[0m\u001b[1;33m)\u001b[0m\u001b[1;33m)\u001b[0m\u001b[1;33m\u001b[0m\u001b[0m\n",
      "\u001b[1;32m/home/stylianos/miniconda3/envs/menpo/lib/python3.5/site-packages/mayavi-4.5.0-py3.5-linux-x86_64.egg/tvtk/array_handler.py\u001b[0m in \u001b[0;36mconvert_array\u001b[1;34m(arr, vtk_typ)\u001b[0m\n\u001b[0;32m    656\u001b[0m                 \u001b[0mvtk_arr\u001b[0m \u001b[1;33m=\u001b[0m \u001b[0mgetattr\u001b[0m\u001b[1;33m(\u001b[0m\u001b[0mvtk\u001b[0m\u001b[1;33m,\u001b[0m \u001b[0mvtk_typ\u001b[0m\u001b[1;33m)\u001b[0m\u001b[1;33m(\u001b[0m\u001b[1;33m)\u001b[0m\u001b[1;33m\u001b[0m\u001b[0m\n\u001b[0;32m    657\u001b[0m             \u001b[1;32mexcept\u001b[0m \u001b[0mTypeError\u001b[0m\u001b[1;33m:\u001b[0m \u001b[1;31m# vtk_typ == 'vtkDataArray'\u001b[0m\u001b[1;33m\u001b[0m\u001b[0m\n\u001b[1;32m--> 658\u001b[1;33m                 \u001b[1;32mreturn\u001b[0m \u001b[0marray2vtk\u001b[0m\u001b[1;33m(\u001b[0m\u001b[0marr\u001b[0m\u001b[1;33m)\u001b[0m\u001b[1;33m\u001b[0m\u001b[0m\n\u001b[0m\u001b[0;32m    659\u001b[0m             \u001b[1;32melse\u001b[0m\u001b[1;33m:\u001b[0m\u001b[1;33m\u001b[0m\u001b[0m\n\u001b[0;32m    660\u001b[0m                 \u001b[1;32mreturn\u001b[0m \u001b[0marray2vtk\u001b[0m\u001b[1;33m(\u001b[0m\u001b[0marr\u001b[0m\u001b[1;33m,\u001b[0m \u001b[0mvtk_arr\u001b[0m\u001b[1;33m)\u001b[0m\u001b[1;33m\u001b[0m\u001b[0m\n",
      "\u001b[1;32m/home/stylianos/miniconda3/envs/menpo/lib/python3.5/site-packages/mayavi-4.5.0-py3.5-linux-x86_64.egg/tvtk/array_handler.py\u001b[0m in \u001b[0;36marray2vtk\u001b[1;34m(num_array, vtk_array)\u001b[0m\n\u001b[0;32m    275\u001b[0m     \u001b[0mbit_array\u001b[0m \u001b[1;33m=\u001b[0m \u001b[1;32mFalse\u001b[0m\u001b[1;33m\u001b[0m\u001b[0m\n\u001b[0;32m    276\u001b[0m     \u001b[1;32mif\u001b[0m \u001b[0mvtk_array\u001b[0m \u001b[1;32mis\u001b[0m \u001b[1;32mNone\u001b[0m\u001b[1;33m:\u001b[0m\u001b[1;33m\u001b[0m\u001b[0m\n\u001b[1;32m--> 277\u001b[1;33m         \u001b[0mvtk_typecode\u001b[0m \u001b[1;33m=\u001b[0m \u001b[0mget_vtk_array_type\u001b[0m\u001b[1;33m(\u001b[0m\u001b[0mz\u001b[0m\u001b[1;33m.\u001b[0m\u001b[0mdtype\u001b[0m\u001b[1;33m)\u001b[0m\u001b[1;33m\u001b[0m\u001b[0m\n\u001b[0m\u001b[0;32m    278\u001b[0m         \u001b[0mresult_array\u001b[0m \u001b[1;33m=\u001b[0m \u001b[0mcreate_vtk_array\u001b[0m\u001b[1;33m(\u001b[0m\u001b[0mvtk_typecode\u001b[0m\u001b[1;33m)\u001b[0m\u001b[1;33m\u001b[0m\u001b[0m\n\u001b[0;32m    279\u001b[0m     \u001b[1;32melif\u001b[0m \u001b[0mvtk_array\u001b[0m\u001b[1;33m.\u001b[0m\u001b[0mGetDataType\u001b[0m\u001b[1;33m(\u001b[0m\u001b[1;33m)\u001b[0m \u001b[1;33m==\u001b[0m \u001b[0mvtkConstants\u001b[0m\u001b[1;33m.\u001b[0m\u001b[0mVTK_BIT\u001b[0m\u001b[1;33m:\u001b[0m\u001b[1;33m\u001b[0m\u001b[0m\n",
      "\u001b[1;32m/home/stylianos/miniconda3/envs/menpo/lib/python3.5/site-packages/mayavi-4.5.0-py3.5-linux-x86_64.egg/tvtk/array_handler.py\u001b[0m in \u001b[0;36mget_vtk_array_type\u001b[1;34m(numeric_array_type)\u001b[0m\n\u001b[0;32m    172\u001b[0m             \u001b[1;32mif\u001b[0m \u001b[0mnumpy\u001b[0m\u001b[1;33m.\u001b[0m\u001b[0missubdtype\u001b[0m\u001b[1;33m(\u001b[0m\u001b[0mnumeric_array_type\u001b[0m\u001b[1;33m,\u001b[0m \u001b[0mkey\u001b[0m\u001b[1;33m)\u001b[0m\u001b[1;33m:\u001b[0m\u001b[1;33m\u001b[0m\u001b[0m\n\u001b[0;32m    173\u001b[0m                 \u001b[1;32mreturn\u001b[0m \u001b[0m_arr_vtk\u001b[0m\u001b[1;33m[\u001b[0m\u001b[0mkey\u001b[0m\u001b[1;33m]\u001b[0m\u001b[1;33m\u001b[0m\u001b[0m\n\u001b[1;32m--> 174\u001b[1;33m     \u001b[1;32mraise\u001b[0m \u001b[0mTypeError\u001b[0m\u001b[1;33m(\u001b[0m\u001b[1;34m\"Couldn't translate array's type to VTK\"\u001b[0m\u001b[1;33m)\u001b[0m\u001b[1;33m\u001b[0m\u001b[0m\n\u001b[0m\u001b[0;32m    175\u001b[0m \u001b[1;33m\u001b[0m\u001b[0m\n\u001b[0;32m    176\u001b[0m \u001b[1;32mdef\u001b[0m \u001b[0mget_vtk_to_numeric_typemap\u001b[0m\u001b[1;33m(\u001b[0m\u001b[1;33m)\u001b[0m\u001b[1;33m:\u001b[0m\u001b[1;33m\u001b[0m\u001b[0m\n",
      "\u001b[1;31mTypeError\u001b[0m: Couldn't translate array's type to VTK"
     ]
    }
   ],
   "source": [
    "TexturedTriMesh(nicp_mesh.points,aligned_mesh.tcoords,aligned_mesh.texture, nicp_mesh.trilist).view()"
   ]
  },
  {
   "cell_type": "code",
   "execution_count": null,
   "metadata": {
    "collapsed": true
   },
   "outputs": [],
   "source": []
  }
 ],
 "metadata": {
  "kernelspec": {
   "display_name": "Python 3",
   "language": "python",
   "name": "python3"
  },
  "language_info": {
   "codemirror_mode": {
    "name": "ipython",
    "version": 3
   },
   "file_extension": ".py",
   "mimetype": "text/x-python",
   "name": "python",
   "nbconvert_exporter": "python",
   "pygments_lexer": "ipython3",
   "version": "3.5.4"
  },
  "widgets": {
   "state": {},
   "version": "1.1.2"
  }
 },
 "nbformat": 4,
 "nbformat_minor": 1
}
